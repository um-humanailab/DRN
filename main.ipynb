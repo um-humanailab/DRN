{
 "cells": [
  {
   "cell_type": "code",
   "execution_count": 1,
   "metadata": {},
   "outputs": [],
   "source": [
    "import torch\n",
    "import torch.nn as nn\n",
    "import torch.nn.functional as F"
   ]
  },
  {
   "cell_type": "code",
   "execution_count": 10,
   "metadata": {},
   "outputs": [],
   "source": [
    "class CustomNN(nn.Module):\n",
    "    def __init__(self):\n",
    "        super(CustomNN, self).__init__()\n",
    "        self.input_layer = nn.Linear(10, 20)\n",
    "        self.hidden_layer = nn.Linear(20, 2)\n",
    "\n",
    "    def forward(self, x):\n",
    "        return self.input_layer(x)\n",
    "\n",
    "    def energy_fn(self, x, layer):\n",
    "        W = layer.weight\n",
    "        b = layer.bias\n",
    "        output = F.linear(input=x, weight=W, bias=b)\n",
    "        return output\n",
    "\n",
    "    def initiate_bias(self):\n",
    "        return nn.Parameter()"
   ]
  },
  {
   "cell_type": "code",
   "execution_count": 13,
   "metadata": {},
   "outputs": [
    {
     "name": "stdout",
     "output_type": "stream",
     "text": [
      "torch.Size([100, 10])\n"
     ]
    }
   ],
   "source": [
    "test = CustomNN()\n",
    "print(test.input_layer.weight.shape)"
   ]
  },
  {
   "cell_type": "code",
   "execution_count": 2,
   "metadata": {},
   "outputs": [],
   "source": [
    "s1 = [1, 2, 3, 4, 5]\n",
    "s2 = [1, 2, 3, 4, 5]\n",
    "sk = [1, 2, 3, 4, 5]\n",
    "ps1 = [0.95, 0.03, 0.01, 0.005, 0.005]\n",
    "# ps1 = [0.03, 0.95, 0.01, 0.005, 0.005]\n",
    "ps2 = [0.05, 0.2, 0.5, 0.2, 0.05]\n",
    "\n",
    "mat = [\n",
    "    [0,-1,-4,-9,-16],\n",
    "    [-1,0,-1,-4,-9],\n",
    "    [-4,-1,0,-1,-4],\n",
    "    [-9,-4,-1,0,-1],\n",
    "    [-16,-9,-4,-1,0]\n",
    "]\n"
   ]
  },
  {
   "cell_type": "code",
   "execution_count": 3,
   "metadata": {},
   "outputs": [],
   "source": [
    "import numpy as np\n",
    "mat1 = np.divide(mat, 2)\n",
    "mat1 = np.exp(mat1)\n",
    "x1 = np.multiply(ps1, mat1)\n",
    "sumps1 = np.sum(x1, axis=0)"
   ]
  },
  {
   "cell_type": "code",
   "execution_count": 4,
   "metadata": {},
   "outputs": [],
   "source": [
    "mat2 = np.divide(mat, 2)\n",
    "mat2 = np.exp(mat2)\n",
    "x2 = np.multiply(ps2, mat2)\n",
    "sumps2 = np.sum(x2, axis=0)"
   ]
  },
  {
   "cell_type": "code",
   "execution_count": 5,
   "metadata": {},
   "outputs": [
    {
     "name": "stdout",
     "output_type": "stream",
     "text": [
      "[1.66564488 0.07078517 0.02483732 0.01179753 0.00876655]\n",
      "[0.08766552 0.47190112 1.24186594 0.47190112 0.08766552]\n"
     ]
    }
   ],
   "source": [
    "print(sumps1)\n",
    "print(sumps2)"
   ]
  },
  {
   "cell_type": "code",
   "execution_count": 6,
   "metadata": {},
   "outputs": [],
   "source": [
    "sumofvalues = np.sum(sumps1+sumps2, axis=0)"
   ]
  },
  {
   "cell_type": "code",
   "execution_count": 7,
   "metadata": {},
   "outputs": [
    {
     "data": {
      "text/plain": [
       "4.142830671692022"
      ]
     },
     "execution_count": 7,
     "metadata": {},
     "output_type": "execute_result"
    }
   ],
   "source": [
    "indvalues = sumps1+sumps2\n",
    "sumofvalues"
   ]
  },
  {
   "cell_type": "code",
   "execution_count": 8,
   "metadata": {},
   "outputs": [],
   "source": [
    "norm_values = [i/sumofvalues for i in indvalues]"
   ]
  },
  {
   "cell_type": "code",
   "execution_count": 9,
   "metadata": {},
   "outputs": [
    {
     "data": {
      "text/plain": [
       "[0.4232155598576036,\n",
       " 0.13099407888529108,\n",
       " 0.3057579134150038,\n",
       " 0.11675559204993333,\n",
       " 0.023276855792168198]"
      ]
     },
     "execution_count": 9,
     "metadata": {},
     "output_type": "execute_result"
    }
   ],
   "source": [
    "norm_values"
   ]
  },
  {
   "cell_type": "code",
   "execution_count": null,
   "metadata": {},
   "outputs": [],
   "source": []
  }
 ],
 "metadata": {
  "interpreter": {
   "hash": "e21cb67fa4e9bb074a3e521f7910aea634b2c91223142c48e61dc77b2dde3274"
  },
  "kernelspec": {
   "display_name": "Python 3.9.7 64-bit ('diffusion': conda)",
   "language": "python",
   "name": "python3"
  },
  "language_info": {
   "codemirror_mode": {
    "name": "ipython",
    "version": 3
   },
   "file_extension": ".py",
   "mimetype": "text/x-python",
   "name": "python",
   "nbconvert_exporter": "python",
   "pygments_lexer": "ipython3",
   "version": "3.9.7"
  },
  "orig_nbformat": 4
 },
 "nbformat": 4,
 "nbformat_minor": 2
}
