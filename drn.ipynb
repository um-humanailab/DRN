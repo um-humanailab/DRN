{
 "cells": [
  {
   "cell_type": "code",
   "execution_count": 7,
   "metadata": {},
   "outputs": [],
   "source": [
    "import torch\n",
    "import torch.nn as nn\n",
    "import torch.nn.functional as F"
   ]
  },
  {
   "cell_type": "code",
   "execution_count": 3,
   "metadata": {},
   "outputs": [
    {
     "data": {
      "text/plain": [
       "'1.13.1+cu117'"
      ]
     },
     "execution_count": 3,
     "metadata": {},
     "output_type": "execute_result"
    }
   ],
   "source": [
    "class CustomLayer(nn.Module):\n",
    "    def __init__(self, in_features: int, out_features: int, bias: bool = True, device=None, dtype=None):\n",
    "        factory_kwargs = {'device': device, 'dtype': dtype}\n",
    "        super(CustomLayer, self).__init__()\n",
    "        self.in_features = in_features\n",
    "        self.out_features = out_features\n",
    "        self.weight = nn.Parameter(torch.empty((out_features, in_features), **factory_kwargs))\n",
    "        if bias:\n",
    "            self.bias = nn.Parameter(torch.empty(out_features, **factory_kwargs))\n",
    "        else:\n",
    "            self.register_parameter('bias', None)\n",
    "        self.reset_parameters()\n",
    "\n",
    "    def forward(self, s_k, s_l_minus_1, P_l_minus_1):\n",
    "        exp_term = torch.exp(-self.B(s_k))\n",
    "        product = 1.0\n",
    "\n",
    "        for i in range(self.n):\n",
    "            integrand = P_l_minus_1[i] * s_l_minus_1[i] * torch.exp(\n",
    "                -self.w[i] * ((s_k - s_l_minus_1[i]) / self.q)**2\n",
    "            )\n",
    "            product *= integrand\n",
    "\n",
    "        result = exp_term * product\n",
    "        return result\n"
   ]
  },
  {
   "cell_type": "code",
   "execution_count": 29,
   "metadata": {},
   "outputs": [
    {
     "data": {
      "text/plain": [
       "tensor([[1., 1., 1., 1., 1.],\n",
       "        [1., 1., 1., 1., 1.]])"
      ]
     },
     "execution_count": 29,
     "metadata": {},
     "output_type": "execute_result"
    }
   ],
   "source": [
    "a = torch.Tensor(torch.ones((2,5)))\n",
    "a.size"
   ]
  },
  {
   "cell_type": "code",
   "execution_count": 16,
   "metadata": {},
   "outputs": [
    {
     "data": {
      "text/plain": [
       "Parameter containing:\n",
       "tensor([[        nan, -2.2070e+38,  1.8431e-18,  8.2939e-18,  1.5516e-36,\n",
       "          4.8721e-31,  5.5599e-38, -3.8221e+02,  1.6615e+20,  4.5660e-41],\n",
       "        [ 6.0384e+18,  4.5660e-41,  1.8347e+07, -9.1016e+20,  1.6615e+20,\n",
       "          4.5660e-41,  6.0383e+18,  4.5660e-41,  7.2017e+06,  3.9201e-09],\n",
       "        [ 1.6615e+20,  4.5660e-41,  2.5385e+19,  4.5660e-41,  2.0383e+23,\n",
       "         -8.7250e+07,  8.1462e+21,  4.5660e-41,  6.0384e+18,  4.5660e-41],\n",
       "        [ 1.3544e-07, -2.3314e+36,  1.6615e+20,  4.5660e-41,  6.0383e+18,\n",
       "          4.5660e-41, -3.4410e-19,  2.1494e-35,  2.4894e+20,  4.5660e-41],\n",
       "        [ 6.0098e+18,  4.5660e-41,  8.4344e+22, -3.2836e-18,  1.0276e+22,\n",
       "          4.5660e-41,  6.0055e+18,  4.5660e-41, -1.6114e-15, -1.1619e-36],\n",
       "        [ 9.3966e+21,  4.5660e-41,  6.0055e+18,  4.5660e-41,  1.1916e+34,\n",
       "         -1.5616e-08,  1.0546e+22,  4.5660e-41,  1.0325e+22,  4.5660e-41],\n",
       "        [ 2.0871e+14,  2.3921e+25,  1.0544e+22,  4.5660e-41,  1.6448e+20,\n",
       "          4.5660e-41,  5.6968e-30, -9.8206e-34,  1.0256e+22,  4.5660e-41],\n",
       "        [-1.7904e-04,  3.0911e-41,  7.9660e-14,  2.2487e+29,  1.0275e+22,\n",
       "          4.5660e-41, -1.7904e-04,  3.0911e-41, -2.2566e+16,  2.8145e+16],\n",
       "        [ 1.0275e+22,  4.5660e-41, -1.7904e-04,  3.0911e-41, -1.1378e-14,\n",
       "         -6.9153e+35,  8.7212e+20,  4.5660e-41,  1.0310e+22,  4.5660e-41],\n",
       "        [-3.8083e-20, -5.7184e+04,  1.0408e+22,  4.5660e-41,  1.0310e+22,\n",
       "          4.5660e-41, -3.8523e+10, -2.1013e+10,  1.0507e+22,  4.5660e-41],\n",
       "        [-1.6290e-10,  4.5659e-41, -2.1864e-35, -4.1484e+09,  9.3027e+21,\n",
       "          4.5660e-41, -1.6291e-10,  4.5659e-41, -9.8338e-31, -5.6746e+15],\n",
       "        [ 1.6654e+20,  4.5660e-41, -1.6288e-10,  4.5659e-41,  1.2377e-34,\n",
       "         -1.3344e-03,  1.5653e+20,  4.5660e-41, -1.6204e-10,  4.5659e-41],\n",
       "        [ 9.9376e-13, -3.8929e-25,  1.5653e+20,  4.5660e-41, -1.6206e-10,\n",
       "          4.5659e-41,  2.3628e-05,  1.5562e+31,  1.5653e+20,  4.5660e-41],\n",
       "        [ 2.9206e+20,  4.5660e-41,  6.5196e+13, -2.0897e-04,  2.5330e+19,\n",
       "          4.5660e-41,  1.8166e+17,  4.5660e-41,  8.5997e-28,  2.7592e-36],\n",
       "        [-4.4463e-10,  4.5659e-41, -1.5346e-09,  4.5659e-41, -9.4908e+34,\n",
       "         -1.2206e+12, -1.5983e-10,  4.5659e-41, -1.5976e-10,  4.5659e-41],\n",
       "        [ 2.9627e+35,  1.1657e+00, -7.2681e-10,  4.5659e-41,  1.7841e+17,\n",
       "          4.5660e-41,  1.1963e-23,  2.8128e-12, -1.6142e-10,  4.5659e-41],\n",
       "        [-6.0678e-10,  4.5659e-41,  1.1345e+06,  6.7744e+23, -1.6140e-10,\n",
       "          4.5659e-41, -6.0024e-10,  4.5659e-41,  2.0242e-23,  4.7045e+22],\n",
       "        [-1.6138e-10,  4.5659e-41, -6.2184e-10,  4.5659e-41,  2.7590e-07,\n",
       "          5.4944e-19, -1.6141e-10,  4.5659e-41, -1.5712e-10,  4.5659e-41],\n",
       "        [-3.4023e-19,  1.1462e+07, -1.6141e-10,  4.5659e-41, -6.0809e-10,\n",
       "          4.5659e-41, -1.2097e+30, -9.5708e-32, -1.6224e-10,  4.5659e-41],\n",
       "        [-1.6286e-10,  4.5659e-41,  7.0519e+15, -8.4980e-16, -1.6139e-10,\n",
       "          4.5659e-41, -1.5787e-10,  4.5659e-41,  7.5314e+20,  6.1961e-02]],\n",
       "       requires_grad=True)"
      ]
     },
     "execution_count": 16,
     "metadata": {},
     "output_type": "execute_result"
    }
   ],
   "source": [
    "in_features, out_features = 10, 20\n",
    "nn.Parameter(torch.empty((out_features, in_features)))"
   ]
  },
  {
   "cell_type": "code",
   "execution_count": null,
   "metadata": {},
   "outputs": [],
   "source": [
    "class YourNetwork(nn.Module):\n",
    "    def __init__(self, ...):\n",
    "        super(YourNetwork, self).__init__()\n",
    "        # Other layers\n",
    "\n",
    "        # Initialize the custom layer\n",
    "        self.custom_layer = CustomLayer(n, q, B, w)\n",
    "\n",
    "    def forward(self, x):\n",
    "        # Other forward propagation steps\n",
    "\n",
    "        # Use the custom layer\n",
    "        custom_output = self.custom_layer(s_k, s_l_minus_1, P_l_minus_1)\n",
    "\n",
    "        # Other forward propagation steps\n"
   ]
  },
  {
   "cell_type": "code",
   "execution_count": 24,
   "metadata": {},
   "outputs": [
    {
     "name": "stdout",
     "output_type": "stream",
     "text": [
      "Output shape: torch.Size([2, 9])\n",
      "tensor([[-1.2061, -1.6754, -0.7176,  0.6579, -1.1079, -0.1029,  0.1930,  1.4293,\n",
      "          0.5787],\n",
      "        [ 1.6930,  1.2094, -0.4598, -3.2865, -2.1971, -3.0835,  3.0158,  1.7780,\n",
      "          4.5608]], grad_fn=<AddBackward0>)\n"
     ]
    }
   ],
   "source": [
    "import torch\n",
    "import torch.nn as nn\n",
    "\n",
    "class CustomLinear(nn.Module):\n",
    "    def __init__(self, in_features, out_features):\n",
    "        super(CustomLinear, self).__init__()\n",
    "        self.weight = nn.Parameter(torch.randn(out_features, in_features))\n",
    "        self.bias = nn.Parameter(torch.randn(out_features))\n",
    "\n",
    "    def forward(self, x):\n",
    "        return torch.matmul(x, self.weight.t()) + self.bias\n",
    "\n",
    "# Create an instance of the CustomLinear layer\n",
    "linear_layer = CustomLinear(in_features=3, out_features=9)\n",
    "\n",
    "# Create a sample input tensor\n",
    "input_data = torch.randn(2, 3)  # Batch size of 2, input dimension of 3\n",
    "\n",
    "# Pass the input through the linear layer\n",
    "output = linear_layer(input_data)\n",
    "print(\"Output shape:\", output.shape)\n",
    "print(output)"
   ]
  },
  {
   "cell_type": "code",
   "execution_count": 25,
   "metadata": {},
   "outputs": [
    {
     "name": "stdout",
     "output_type": "stream",
     "text": [
      "tensor([[-0.3692,  0.5129, -0.1973],\n",
      "        [-0.0369, -0.7358,  2.0560]])\n"
     ]
    }
   ],
   "source": [
    "print(input_data)"
   ]
  }
 ],
 "metadata": {
  "interpreter": {
   "hash": "e21cb67fa4e9bb074a3e521f7910aea634b2c91223142c48e61dc77b2dde3274"
  },
  "kernelspec": {
   "display_name": "Python 3.9.7 64-bit ('diffusion': conda)",
   "language": "python",
   "name": "python3"
  },
  "language_info": {
   "codemirror_mode": {
    "name": "ipython",
    "version": 3
   },
   "file_extension": ".py",
   "mimetype": "text/x-python",
   "name": "python",
   "nbconvert_exporter": "python",
   "pygments_lexer": "ipython3",
   "version": "3.9.7"
  },
  "orig_nbformat": 4
 },
 "nbformat": 4,
 "nbformat_minor": 2
}
